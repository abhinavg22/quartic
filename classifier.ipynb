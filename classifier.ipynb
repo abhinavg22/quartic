{
 "cells": [
  {
   "cell_type": "code",
   "execution_count": 1,
   "metadata": {},
   "outputs": [],
   "source": [
    "import os\n",
    "Data_Path = os.path.join('F:\\Hiring Challenge', 'ds_data')"
   ]
  },
  {
   "cell_type": "code",
   "execution_count": 2,
   "metadata": {},
   "outputs": [],
   "source": [
    "import pandas as pd\n",
    "def load_data(filename, path = Data_Path):\n",
    "    filepath = os.path.join(path, filename)\n",
    "    return pd.read_csv(filepath) "
   ]
  },
  {
   "cell_type": "code",
   "execution_count": 3,
   "metadata": {},
   "outputs": [],
   "source": [
    "train = load_data('data_train.csv')\n",
    "testf = load_data('data_test.csv')"
   ]
  },
  {
   "cell_type": "code",
   "execution_count": 4,
   "metadata": {},
   "outputs": [
    {
     "data": {
      "text/html": [
       "<div>\n",
       "<style scoped>\n",
       "    .dataframe tbody tr th:only-of-type {\n",
       "        vertical-align: middle;\n",
       "    }\n",
       "\n",
       "    .dataframe tbody tr th {\n",
       "        vertical-align: top;\n",
       "    }\n",
       "\n",
       "    .dataframe thead th {\n",
       "        text-align: right;\n",
       "    }\n",
       "</style>\n",
       "<table border=\"1\" class=\"dataframe\">\n",
       "  <thead>\n",
       "    <tr style=\"text-align: right;\">\n",
       "      <th></th>\n",
       "      <th>id</th>\n",
       "      <th>num1</th>\n",
       "      <th>num2</th>\n",
       "      <th>num3</th>\n",
       "      <th>num4</th>\n",
       "      <th>num5</th>\n",
       "      <th>num6</th>\n",
       "      <th>num7</th>\n",
       "      <th>num8</th>\n",
       "      <th>num9</th>\n",
       "      <th>...</th>\n",
       "      <th>cat6</th>\n",
       "      <th>cat7</th>\n",
       "      <th>cat8</th>\n",
       "      <th>cat9</th>\n",
       "      <th>cat10</th>\n",
       "      <th>cat11</th>\n",
       "      <th>cat12</th>\n",
       "      <th>cat13</th>\n",
       "      <th>cat14</th>\n",
       "      <th>target</th>\n",
       "    </tr>\n",
       "  </thead>\n",
       "  <tbody>\n",
       "    <tr>\n",
       "      <th>count</th>\n",
       "      <td>596000.000000</td>\n",
       "      <td>596000.000000</td>\n",
       "      <td>596000.000000</td>\n",
       "      <td>596000.000000</td>\n",
       "      <td>596000.000000</td>\n",
       "      <td>596000.000000</td>\n",
       "      <td>596000.000000</td>\n",
       "      <td>596000.000000</td>\n",
       "      <td>596000.000000</td>\n",
       "      <td>596000.000000</td>\n",
       "      <td>...</td>\n",
       "      <td>184208.000000</td>\n",
       "      <td>596000.000000</td>\n",
       "      <td>329072.000000</td>\n",
       "      <td>596000.000000</td>\n",
       "      <td>584497.000000</td>\n",
       "      <td>596000.000000</td>\n",
       "      <td>595430.000000</td>\n",
       "      <td>596000.000000</td>\n",
       "      <td>596000.000000</td>\n",
       "      <td>596000.000000</td>\n",
       "    </tr>\n",
       "    <tr>\n",
       "      <th>mean</th>\n",
       "      <td>297999.500000</td>\n",
       "      <td>1.900423</td>\n",
       "      <td>4.423356</td>\n",
       "      <td>0.393743</td>\n",
       "      <td>0.257015</td>\n",
       "      <td>0.163933</td>\n",
       "      <td>0.185309</td>\n",
       "      <td>0.000374</td>\n",
       "      <td>0.001693</td>\n",
       "      <td>0.009435</td>\n",
       "      <td>...</td>\n",
       "      <td>0.601744</td>\n",
       "      <td>0.725106</td>\n",
       "      <td>0.525365</td>\n",
       "      <td>6.555000</td>\n",
       "      <td>0.947608</td>\n",
       "      <td>0.832077</td>\n",
       "      <td>1.331161</td>\n",
       "      <td>0.992136</td>\n",
       "      <td>62.215570</td>\n",
       "      <td>0.036436</td>\n",
       "    </tr>\n",
       "    <tr>\n",
       "      <th>std</th>\n",
       "      <td>172050.524555</td>\n",
       "      <td>1.983855</td>\n",
       "      <td>2.699861</td>\n",
       "      <td>0.488579</td>\n",
       "      <td>0.436988</td>\n",
       "      <td>0.370215</td>\n",
       "      <td>0.388548</td>\n",
       "      <td>0.019340</td>\n",
       "      <td>0.041111</td>\n",
       "      <td>0.096672</td>\n",
       "      <td>...</td>\n",
       "      <td>0.489540</td>\n",
       "      <td>2.153319</td>\n",
       "      <td>0.499357</td>\n",
       "      <td>5.501419</td>\n",
       "      <td>0.222817</td>\n",
       "      <td>0.373798</td>\n",
       "      <td>0.976544</td>\n",
       "      <td>0.091613</td>\n",
       "      <td>33.012105</td>\n",
       "      <td>0.187373</td>\n",
       "    </tr>\n",
       "    <tr>\n",
       "      <th>min</th>\n",
       "      <td>0.000000</td>\n",
       "      <td>0.000000</td>\n",
       "      <td>0.000000</td>\n",
       "      <td>0.000000</td>\n",
       "      <td>0.000000</td>\n",
       "      <td>0.000000</td>\n",
       "      <td>0.000000</td>\n",
       "      <td>0.000000</td>\n",
       "      <td>0.000000</td>\n",
       "      <td>0.000000</td>\n",
       "      <td>...</td>\n",
       "      <td>0.000000</td>\n",
       "      <td>0.000000</td>\n",
       "      <td>0.000000</td>\n",
       "      <td>0.000000</td>\n",
       "      <td>0.000000</td>\n",
       "      <td>0.000000</td>\n",
       "      <td>0.000000</td>\n",
       "      <td>0.000000</td>\n",
       "      <td>1.000000</td>\n",
       "      <td>0.000000</td>\n",
       "    </tr>\n",
       "    <tr>\n",
       "      <th>25%</th>\n",
       "      <td>148999.750000</td>\n",
       "      <td>0.000000</td>\n",
       "      <td>2.000000</td>\n",
       "      <td>0.000000</td>\n",
       "      <td>0.000000</td>\n",
       "      <td>0.000000</td>\n",
       "      <td>0.000000</td>\n",
       "      <td>0.000000</td>\n",
       "      <td>0.000000</td>\n",
       "      <td>0.000000</td>\n",
       "      <td>...</td>\n",
       "      <td>0.000000</td>\n",
       "      <td>0.000000</td>\n",
       "      <td>0.000000</td>\n",
       "      <td>1.000000</td>\n",
       "      <td>1.000000</td>\n",
       "      <td>1.000000</td>\n",
       "      <td>0.000000</td>\n",
       "      <td>1.000000</td>\n",
       "      <td>32.000000</td>\n",
       "      <td>0.000000</td>\n",
       "    </tr>\n",
       "    <tr>\n",
       "      <th>50%</th>\n",
       "      <td>297999.500000</td>\n",
       "      <td>1.000000</td>\n",
       "      <td>4.000000</td>\n",
       "      <td>0.000000</td>\n",
       "      <td>0.000000</td>\n",
       "      <td>0.000000</td>\n",
       "      <td>0.000000</td>\n",
       "      <td>0.000000</td>\n",
       "      <td>0.000000</td>\n",
       "      <td>0.000000</td>\n",
       "      <td>...</td>\n",
       "      <td>1.000000</td>\n",
       "      <td>0.000000</td>\n",
       "      <td>1.000000</td>\n",
       "      <td>7.000000</td>\n",
       "      <td>1.000000</td>\n",
       "      <td>1.000000</td>\n",
       "      <td>2.000000</td>\n",
       "      <td>1.000000</td>\n",
       "      <td>65.000000</td>\n",
       "      <td>0.000000</td>\n",
       "    </tr>\n",
       "    <tr>\n",
       "      <th>75%</th>\n",
       "      <td>446999.250000</td>\n",
       "      <td>3.000000</td>\n",
       "      <td>6.000000</td>\n",
       "      <td>1.000000</td>\n",
       "      <td>1.000000</td>\n",
       "      <td>0.000000</td>\n",
       "      <td>0.000000</td>\n",
       "      <td>0.000000</td>\n",
       "      <td>0.000000</td>\n",
       "      <td>0.000000</td>\n",
       "      <td>...</td>\n",
       "      <td>1.000000</td>\n",
       "      <td>0.000000</td>\n",
       "      <td>1.000000</td>\n",
       "      <td>11.000000</td>\n",
       "      <td>1.000000</td>\n",
       "      <td>1.000000</td>\n",
       "      <td>2.000000</td>\n",
       "      <td>1.000000</td>\n",
       "      <td>93.000000</td>\n",
       "      <td>0.000000</td>\n",
       "    </tr>\n",
       "    <tr>\n",
       "      <th>max</th>\n",
       "      <td>595999.000000</td>\n",
       "      <td>7.000000</td>\n",
       "      <td>11.000000</td>\n",
       "      <td>1.000000</td>\n",
       "      <td>1.000000</td>\n",
       "      <td>1.000000</td>\n",
       "      <td>1.000000</td>\n",
       "      <td>1.000000</td>\n",
       "      <td>1.000000</td>\n",
       "      <td>1.000000</td>\n",
       "      <td>...</td>\n",
       "      <td>1.000000</td>\n",
       "      <td>9.000000</td>\n",
       "      <td>1.000000</td>\n",
       "      <td>17.000000</td>\n",
       "      <td>1.000000</td>\n",
       "      <td>1.000000</td>\n",
       "      <td>4.000000</td>\n",
       "      <td>2.000000</td>\n",
       "      <td>104.000000</td>\n",
       "      <td>1.000000</td>\n",
       "    </tr>\n",
       "  </tbody>\n",
       "</table>\n",
       "<p>8 rows × 58 columns</p>\n",
       "</div>"
      ],
      "text/plain": [
       "                  id           num1           num2           num3  \\\n",
       "count  596000.000000  596000.000000  596000.000000  596000.000000   \n",
       "mean   297999.500000       1.900423       4.423356       0.393743   \n",
       "std    172050.524555       1.983855       2.699861       0.488579   \n",
       "min         0.000000       0.000000       0.000000       0.000000   \n",
       "25%    148999.750000       0.000000       2.000000       0.000000   \n",
       "50%    297999.500000       1.000000       4.000000       0.000000   \n",
       "75%    446999.250000       3.000000       6.000000       1.000000   \n",
       "max    595999.000000       7.000000      11.000000       1.000000   \n",
       "\n",
       "                num4           num5           num6           num7  \\\n",
       "count  596000.000000  596000.000000  596000.000000  596000.000000   \n",
       "mean        0.257015       0.163933       0.185309       0.000374   \n",
       "std         0.436988       0.370215       0.388548       0.019340   \n",
       "min         0.000000       0.000000       0.000000       0.000000   \n",
       "25%         0.000000       0.000000       0.000000       0.000000   \n",
       "50%         0.000000       0.000000       0.000000       0.000000   \n",
       "75%         1.000000       0.000000       0.000000       0.000000   \n",
       "max         1.000000       1.000000       1.000000       1.000000   \n",
       "\n",
       "                num8           num9      ...                 cat6  \\\n",
       "count  596000.000000  596000.000000      ...        184208.000000   \n",
       "mean        0.001693       0.009435      ...             0.601744   \n",
       "std         0.041111       0.096672      ...             0.489540   \n",
       "min         0.000000       0.000000      ...             0.000000   \n",
       "25%         0.000000       0.000000      ...             0.000000   \n",
       "50%         0.000000       0.000000      ...             1.000000   \n",
       "75%         0.000000       0.000000      ...             1.000000   \n",
       "max         1.000000       1.000000      ...             1.000000   \n",
       "\n",
       "                cat7           cat8           cat9          cat10  \\\n",
       "count  596000.000000  329072.000000  596000.000000  584497.000000   \n",
       "mean        0.725106       0.525365       6.555000       0.947608   \n",
       "std         2.153319       0.499357       5.501419       0.222817   \n",
       "min         0.000000       0.000000       0.000000       0.000000   \n",
       "25%         0.000000       0.000000       1.000000       1.000000   \n",
       "50%         0.000000       1.000000       7.000000       1.000000   \n",
       "75%         0.000000       1.000000      11.000000       1.000000   \n",
       "max         9.000000       1.000000      17.000000       1.000000   \n",
       "\n",
       "               cat11          cat12          cat13          cat14  \\\n",
       "count  596000.000000  595430.000000  596000.000000  596000.000000   \n",
       "mean        0.832077       1.331161       0.992136      62.215570   \n",
       "std         0.373798       0.976544       0.091613      33.012105   \n",
       "min         0.000000       0.000000       0.000000       1.000000   \n",
       "25%         1.000000       0.000000       1.000000      32.000000   \n",
       "50%         1.000000       2.000000       1.000000      65.000000   \n",
       "75%         1.000000       2.000000       1.000000      93.000000   \n",
       "max         1.000000       4.000000       2.000000     104.000000   \n",
       "\n",
       "              target  \n",
       "count  596000.000000  \n",
       "mean        0.036436  \n",
       "std         0.187373  \n",
       "min         0.000000  \n",
       "25%         0.000000  \n",
       "50%         0.000000  \n",
       "75%         0.000000  \n",
       "max         1.000000  \n",
       "\n",
       "[8 rows x 58 columns]"
      ]
     },
     "execution_count": 4,
     "metadata": {},
     "output_type": "execute_result"
    }
   ],
   "source": [
    "train.describe()"
   ]
  },
  {
   "cell_type": "code",
   "execution_count": 5,
   "metadata": {},
   "outputs": [
    {
     "data": {
      "text/plain": [
       "target    1.000000\n",
       "num21     0.053946\n",
       "num20     0.038818\n",
       "num14     0.037056\n",
       "num17     0.034791\n",
       "num4      0.034255\n",
       "num18     0.033741\n",
       "cat7      0.032909\n",
       "cat3      0.032223\n",
       "num23     0.027699\n",
       "num16     0.022939\n",
       "cat6      0.020601\n",
       "num1      0.018571\n",
       "cat4      0.017353\n",
       "num5      0.013135\n",
       "num22     0.011727\n",
       "cat9      0.011579\n",
       "cat2      0.010176\n",
       "num2      0.008283\n",
       "num9      0.007977\n",
       "num11     0.007556\n",
       "cat14     0.006105\n",
       "cat12     0.005949\n",
       "cat1      0.005582\n",
       "num15     0.004518\n",
       "num10     0.002448\n",
       "num8      0.002012\n",
       "der3      0.001921\n",
       "der1      0.001814\n",
       "num7      0.001794\n",
       "der14     0.001409\n",
       "der2      0.001364\n",
       "der10     0.001028\n",
       "cat13     0.000956\n",
       "cat8      0.000830\n",
       "der5      0.000756\n",
       "der9      0.000723\n",
       "der16     0.000665\n",
       "der18     0.000505\n",
       "der11     0.000384\n",
       "der6      0.000113\n",
       "der4      0.000023\n",
       "der7     -0.000101\n",
       "der17    -0.000173\n",
       "id       -0.000292\n",
       "der13    -0.000430\n",
       "der15    -0.000483\n",
       "der8     -0.000960\n",
       "der12    -0.001195\n",
       "num19    -0.001249\n",
       "der19    -0.001774\n",
       "num6     -0.008254\n",
       "cat10    -0.019692\n",
       "cat11    -0.020300\n",
       "num12    -0.021564\n",
       "num13    -0.027725\n",
       "cat5     -0.031532\n",
       "num3     -0.034026\n",
       "Name: target, dtype: float64"
      ]
     },
     "execution_count": 5,
     "metadata": {},
     "output_type": "execute_result"
    }
   ],
   "source": [
    "corr_matrix = train.corr()\n",
    "corr_matrix['target'].sort_values(ascending=False)"
   ]
  },
  {
   "cell_type": "code",
   "execution_count": 6,
   "metadata": {},
   "outputs": [
    {
     "name": "stdout",
     "output_type": "stream",
     "text": [
      "<class 'pandas.core.frame.DataFrame'>\n",
      "RangeIndex: 596000 entries, 0 to 595999\n",
      "Data columns (total 58 columns):\n",
      "id        596000 non-null int64\n",
      "num1      596000 non-null int64\n",
      "num2      596000 non-null int64\n",
      "num3      596000 non-null int64\n",
      "num4      596000 non-null int64\n",
      "num5      596000 non-null int64\n",
      "num6      596000 non-null int64\n",
      "num7      596000 non-null int64\n",
      "num8      596000 non-null int64\n",
      "num9      596000 non-null int64\n",
      "num10     596000 non-null int64\n",
      "num11     596000 non-null int64\n",
      "num12     596000 non-null int64\n",
      "num13     596000 non-null int64\n",
      "num14     596000 non-null int64\n",
      "num15     596000 non-null int64\n",
      "num16     596000 non-null float64\n",
      "num17     596000 non-null float64\n",
      "num18     488091 non-null float64\n",
      "num19     595995 non-null float64\n",
      "num20     595999 non-null float64\n",
      "num21     596000 non-null float64\n",
      "num22     553333 non-null float64\n",
      "num23     596000 non-null float64\n",
      "der1      596000 non-null float64\n",
      "der2      596000 non-null float64\n",
      "der3      596000 non-null float64\n",
      "der4      596000 non-null int64\n",
      "der5      596000 non-null int64\n",
      "der6      596000 non-null int64\n",
      "der7      596000 non-null int64\n",
      "der8      596000 non-null int64\n",
      "der9      596000 non-null int64\n",
      "der10     596000 non-null int64\n",
      "der11     596000 non-null int64\n",
      "der12     596000 non-null int64\n",
      "der13     596000 non-null int64\n",
      "der14     596000 non-null int64\n",
      "der15     596000 non-null int64\n",
      "der16     596000 non-null int64\n",
      "der17     596000 non-null int64\n",
      "der18     596000 non-null int64\n",
      "der19     596000 non-null int64\n",
      "cat1      595783 non-null float64\n",
      "cat2      595917 non-null float64\n",
      "cat3      590186 non-null float64\n",
      "cat4      595893 non-null float64\n",
      "cat5      595995 non-null float64\n",
      "cat6      184208 non-null float64\n",
      "cat7      596000 non-null int64\n",
      "cat8      329072 non-null float64\n",
      "cat9      596000 non-null int64\n",
      "cat10     584497 non-null float64\n",
      "cat11     596000 non-null int64\n",
      "cat12     595430 non-null float64\n",
      "cat13     596000 non-null int64\n",
      "cat14     596000 non-null int64\n",
      "target    596000 non-null int64\n",
      "dtypes: float64(20), int64(38)\n",
      "memory usage: 263.7 MB\n"
     ]
    }
   ],
   "source": [
    "train.info()"
   ]
  },
  {
   "cell_type": "code",
   "execution_count": 7,
   "metadata": {},
   "outputs": [],
   "source": [
    "#Transformer to handle Pandas Dataframas\n",
    "from sklearn.base import BaseEstimator, TransformerMixin\n",
    "\n",
    "class DataFrameSelector(BaseEstimator, TransformerMixin):\n",
    "    def __init__(self, attribute_names):\n",
    "        self.attribute_names = attribute_names\n",
    "    def fit(self, X, y=None):\n",
    "        return self\n",
    "    def transform(self, X):\n",
    "        return X[self.attribute_names].values"
   ]
  },
  {
   "cell_type": "code",
   "execution_count": 8,
   "metadata": {},
   "outputs": [],
   "source": [
    "y_train = train['target']\n",
    "\n",
    "train = train.drop('target', axis=1)"
   ]
  },
  {
   "cell_type": "code",
   "execution_count": 9,
   "metadata": {},
   "outputs": [
    {
     "data": {
      "text/html": [
       "<div>\n",
       "<style scoped>\n",
       "    .dataframe tbody tr th:only-of-type {\n",
       "        vertical-align: middle;\n",
       "    }\n",
       "\n",
       "    .dataframe tbody tr th {\n",
       "        vertical-align: top;\n",
       "    }\n",
       "\n",
       "    .dataframe thead th {\n",
       "        text-align: right;\n",
       "    }\n",
       "</style>\n",
       "<table border=\"1\" class=\"dataframe\">\n",
       "  <thead>\n",
       "    <tr style=\"text-align: right;\">\n",
       "      <th></th>\n",
       "      <th>id</th>\n",
       "      <th>num1</th>\n",
       "      <th>num2</th>\n",
       "      <th>num3</th>\n",
       "      <th>num4</th>\n",
       "      <th>num5</th>\n",
       "      <th>num6</th>\n",
       "      <th>num7</th>\n",
       "      <th>num8</th>\n",
       "      <th>num9</th>\n",
       "      <th>...</th>\n",
       "      <th>cat5</th>\n",
       "      <th>cat6</th>\n",
       "      <th>cat7</th>\n",
       "      <th>cat8</th>\n",
       "      <th>cat9</th>\n",
       "      <th>cat10</th>\n",
       "      <th>cat11</th>\n",
       "      <th>cat12</th>\n",
       "      <th>cat13</th>\n",
       "      <th>cat14</th>\n",
       "    </tr>\n",
       "  </thead>\n",
       "  <tbody>\n",
       "    <tr>\n",
       "      <th>0</th>\n",
       "      <td>0</td>\n",
       "      <td>2</td>\n",
       "      <td>5</td>\n",
       "      <td>0</td>\n",
       "      <td>1</td>\n",
       "      <td>0</td>\n",
       "      <td>0</td>\n",
       "      <td>0</td>\n",
       "      <td>0</td>\n",
       "      <td>0</td>\n",
       "      <td>...</td>\n",
       "      <td>1.0</td>\n",
       "      <td>NaN</td>\n",
       "      <td>0</td>\n",
       "      <td>1.0</td>\n",
       "      <td>4</td>\n",
       "      <td>1.0</td>\n",
       "      <td>0</td>\n",
       "      <td>0.0</td>\n",
       "      <td>1</td>\n",
       "      <td>12</td>\n",
       "    </tr>\n",
       "    <tr>\n",
       "      <th>1</th>\n",
       "      <td>1</td>\n",
       "      <td>1</td>\n",
       "      <td>7</td>\n",
       "      <td>0</td>\n",
       "      <td>0</td>\n",
       "      <td>1</td>\n",
       "      <td>0</td>\n",
       "      <td>0</td>\n",
       "      <td>0</td>\n",
       "      <td>0</td>\n",
       "      <td>...</td>\n",
       "      <td>1.0</td>\n",
       "      <td>NaN</td>\n",
       "      <td>0</td>\n",
       "      <td>NaN</td>\n",
       "      <td>11</td>\n",
       "      <td>1.0</td>\n",
       "      <td>1</td>\n",
       "      <td>2.0</td>\n",
       "      <td>1</td>\n",
       "      <td>19</td>\n",
       "    </tr>\n",
       "    <tr>\n",
       "      <th>2</th>\n",
       "      <td>2</td>\n",
       "      <td>5</td>\n",
       "      <td>9</td>\n",
       "      <td>0</td>\n",
       "      <td>0</td>\n",
       "      <td>1</td>\n",
       "      <td>0</td>\n",
       "      <td>0</td>\n",
       "      <td>0</td>\n",
       "      <td>0</td>\n",
       "      <td>...</td>\n",
       "      <td>1.0</td>\n",
       "      <td>NaN</td>\n",
       "      <td>0</td>\n",
       "      <td>NaN</td>\n",
       "      <td>14</td>\n",
       "      <td>1.0</td>\n",
       "      <td>1</td>\n",
       "      <td>2.0</td>\n",
       "      <td>1</td>\n",
       "      <td>60</td>\n",
       "    </tr>\n",
       "    <tr>\n",
       "      <th>3</th>\n",
       "      <td>3</td>\n",
       "      <td>0</td>\n",
       "      <td>2</td>\n",
       "      <td>1</td>\n",
       "      <td>0</td>\n",
       "      <td>0</td>\n",
       "      <td>0</td>\n",
       "      <td>0</td>\n",
       "      <td>0</td>\n",
       "      <td>0</td>\n",
       "      <td>...</td>\n",
       "      <td>1.0</td>\n",
       "      <td>0.0</td>\n",
       "      <td>0</td>\n",
       "      <td>1.0</td>\n",
       "      <td>11</td>\n",
       "      <td>1.0</td>\n",
       "      <td>1</td>\n",
       "      <td>3.0</td>\n",
       "      <td>1</td>\n",
       "      <td>104</td>\n",
       "    </tr>\n",
       "    <tr>\n",
       "      <th>4</th>\n",
       "      <td>4</td>\n",
       "      <td>0</td>\n",
       "      <td>0</td>\n",
       "      <td>1</td>\n",
       "      <td>0</td>\n",
       "      <td>0</td>\n",
       "      <td>0</td>\n",
       "      <td>0</td>\n",
       "      <td>0</td>\n",
       "      <td>0</td>\n",
       "      <td>...</td>\n",
       "      <td>1.0</td>\n",
       "      <td>NaN</td>\n",
       "      <td>0</td>\n",
       "      <td>NaN</td>\n",
       "      <td>14</td>\n",
       "      <td>1.0</td>\n",
       "      <td>1</td>\n",
       "      <td>2.0</td>\n",
       "      <td>1</td>\n",
       "      <td>82</td>\n",
       "    </tr>\n",
       "  </tbody>\n",
       "</table>\n",
       "<p>5 rows × 57 columns</p>\n",
       "</div>"
      ],
      "text/plain": [
       "   id  num1  num2  num3  num4  num5  num6  num7  num8  num9  ...    cat5  \\\n",
       "0   0     2     5     0     1     0     0     0     0     0  ...     1.0   \n",
       "1   1     1     7     0     0     1     0     0     0     0  ...     1.0   \n",
       "2   2     5     9     0     0     1     0     0     0     0  ...     1.0   \n",
       "3   3     0     2     1     0     0     0     0     0     0  ...     1.0   \n",
       "4   4     0     0     1     0     0     0     0     0     0  ...     1.0   \n",
       "\n",
       "   cat6  cat7  cat8  cat9  cat10  cat11  cat12  cat13  cat14  \n",
       "0   NaN     0   1.0     4    1.0      0    0.0      1     12  \n",
       "1   NaN     0   NaN    11    1.0      1    2.0      1     19  \n",
       "2   NaN     0   NaN    14    1.0      1    2.0      1     60  \n",
       "3   0.0     0   1.0    11    1.0      1    3.0      1    104  \n",
       "4   NaN     0   NaN    14    1.0      1    2.0      1     82  \n",
       "\n",
       "[5 rows x 57 columns]"
      ]
     },
     "execution_count": 9,
     "metadata": {},
     "output_type": "execute_result"
    }
   ],
   "source": [
    "train.head()"
   ]
  },
  {
   "cell_type": "code",
   "execution_count": 10,
   "metadata": {},
   "outputs": [
    {
     "data": {
      "text/plain": [
       "0    574284\n",
       "1     21716\n",
       "Name: target, dtype: int64"
      ]
     },
     "execution_count": 10,
     "metadata": {},
     "output_type": "execute_result"
    }
   ],
   "source": [
    "y_train.value_counts()"
   ]
  },
  {
   "cell_type": "code",
   "execution_count": 11,
   "metadata": {},
   "outputs": [],
   "source": [
    "#Pipeline to fill in the missing values\n",
    "from sklearn.pipeline import Pipeline\n",
    "from sklearn.preprocessing import Imputer, StandardScaler\n",
    "\n",
    "imputer = Imputer(strategy='median')\n",
    "\n",
    "pipeline = Pipeline([\n",
    "    ('selector', DataFrameSelector(['num1','num2','num3','num4','num5','num6','num7','num8','num9','num10','num11','num12',\n",
    "                                    'num13','num14','num15','num16','num17','num18','num19','num20','num21','num22','num23',\n",
    "                                   'der1','der2','der3','der4','der5','der6','der7','der8','der9','der10','der11','der12',\n",
    "                                   'der13','der14','der15','der16','der17','der18','der19','cat1','cat2','cat3','cat4',\n",
    "                                   'cat5','cat6','cat7','cat8','cat9','cat10','cat11','cat12','cat13','cat14'])),\n",
    "    ('imputer', Imputer(strategy='median')),\n",
    "    ('std_scaler',StandardScaler()),\n",
    " ])"
   ]
  },
  {
   "cell_type": "code",
   "execution_count": 12,
   "metadata": {},
   "outputs": [],
   "source": [
    "X_train = pipeline.fit_transform(train)"
   ]
  },
  {
   "cell_type": "code",
   "execution_count": 13,
   "metadata": {},
   "outputs": [],
   "source": [
    "from sklearn.decomposition import PCA\n",
    "\n",
    "pca = PCA(n_components=0.95)\n",
    "X_reduced = pca.fit_transform(X_train)"
   ]
  },
  {
   "cell_type": "code",
   "execution_count": 14,
   "metadata": {},
   "outputs": [
    {
     "data": {
      "text/plain": [
       "array([[ 0.87498517,  0.23034594, -0.33663761, ..., -0.37904416,\n",
       "         0.29039095,  0.07922449],\n",
       "       [-0.70076566,  0.93770529,  0.01515911, ..., -0.27340284,\n",
       "        -0.85668379,  0.05944689],\n",
       "       [-1.27186634, -1.23433499,  0.6515113 , ..., -0.18037357,\n",
       "        -0.90526267, -0.58808417],\n",
       "       ...,\n",
       "       [ 1.14116258, -1.64190152,  2.82377789, ..., -0.88259954,\n",
       "         0.67837766,  1.19661677],\n",
       "       [-1.56251329,  1.42957116, -1.04164134, ..., -0.59710996,\n",
       "         0.13576973,  0.13944397],\n",
       "       [-0.96889079, -0.17250695, -0.76956331, ..., -0.52543865,\n",
       "        -0.63917307,  0.59997647]])"
      ]
     },
     "execution_count": 14,
     "metadata": {},
     "output_type": "execute_result"
    }
   ],
   "source": [
    "X_reduced"
   ]
  },
  {
   "cell_type": "code",
   "execution_count": 16,
   "metadata": {},
   "outputs": [],
   "source": [
    "X_test = pipeline.transform(testf)\n",
    "X_test_reduced = pca.fit_transform(X_test)"
   ]
  },
  {
   "cell_type": "code",
   "execution_count": 17,
   "metadata": {},
   "outputs": [
    {
     "data": {
      "text/plain": [
       "array([[-1.29944169, -0.56246936, -0.11671095, ..., -0.14813976,\n",
       "         0.68307836, -0.83954001],\n",
       "       [-1.07192895, -0.65984445,  1.17403356, ...,  0.05745134,\n",
       "         0.28759787,  0.11436269],\n",
       "       [ 0.47641356, -0.65269361,  0.39836067, ...,  0.41012597,\n",
       "        -1.36263766, -0.21513177],\n",
       "       ...,\n",
       "       [-0.30940298,  1.36075236, -2.52005747, ..., -0.13785228,\n",
       "        -0.34814271, -0.21858161],\n",
       "       [ 0.96827022, -1.85133955,  1.95129699, ..., -1.30337626,\n",
       "         0.91924522,  0.21633   ],\n",
       "       [-0.92134692, -1.26574249,  3.00766185, ..., -0.0522787 ,\n",
       "         0.52021027,  0.20559732]])"
      ]
     },
     "execution_count": 17,
     "metadata": {},
     "output_type": "execute_result"
    }
   ],
   "source": [
    "X_test_reduced"
   ]
  },
  {
   "cell_type": "code",
   "execution_count": 18,
   "metadata": {},
   "outputs": [
    {
     "data": {
      "text/plain": [
       "LogisticRegression(C=1.0, class_weight=None, dual=False, fit_intercept=True,\n",
       "          intercept_scaling=1, max_iter=100, multi_class='ovr', n_jobs=1,\n",
       "          penalty='l2', random_state=42, solver='liblinear', tol=0.0001,\n",
       "          verbose=0, warm_start=False)"
      ]
     },
     "execution_count": 18,
     "metadata": {},
     "output_type": "execute_result"
    }
   ],
   "source": [
    "from sklearn.linear_model import LogisticRegression\n",
    "\n",
    "log_clf = LogisticRegression(random_state=42)\n",
    "log_clf.fit(X_reduced,y_train)"
   ]
  },
  {
   "cell_type": "code",
   "execution_count": 19,
   "metadata": {},
   "outputs": [
    {
     "data": {
      "text/plain": [
       "0.9635637584023119"
      ]
     },
     "execution_count": 19,
     "metadata": {},
     "output_type": "execute_result"
    }
   ],
   "source": [
    "from sklearn.model_selection import cross_val_score\n",
    "log_scores = cross_val_score(log_clf,X_reduced,y_train, cv=5)\n",
    "log_scores.mean()"
   ]
  },
  {
   "cell_type": "code",
   "execution_count": 21,
   "metadata": {},
   "outputs": [
    {
     "data": {
      "text/plain": [
       "RandomForestClassifier(bootstrap=True, class_weight=None, criterion='gini',\n",
       "            max_depth=None, max_features='auto', max_leaf_nodes=None,\n",
       "            min_impurity_decrease=0.0, min_impurity_split=None,\n",
       "            min_samples_leaf=1, min_samples_split=2,\n",
       "            min_weight_fraction_leaf=0.0, n_estimators=10, n_jobs=1,\n",
       "            oob_score=False, random_state=42, verbose=0, warm_start=False)"
      ]
     },
     "execution_count": 21,
     "metadata": {},
     "output_type": "execute_result"
    }
   ],
   "source": [
    "from sklearn.ensemble import RandomForestClassifier\n",
    "\n",
    "forest_clf = RandomForestClassifier(random_state=42)\n",
    "forest_clf.fit(X_reduced, y_train)"
   ]
  },
  {
   "cell_type": "code",
   "execution_count": 22,
   "metadata": {},
   "outputs": [
    {
     "data": {
      "text/plain": [
       "0.9635788592423647"
      ]
     },
     "execution_count": 22,
     "metadata": {},
     "output_type": "execute_result"
    }
   ],
   "source": [
    "from sklearn.model_selection import cross_val_score\n",
    "forest_scores = cross_val_score(forest_clf, X_reduced, y_train, cv=5)\n",
    "forest_scores.mean()"
   ]
  },
  {
   "cell_type": "code",
   "execution_count": 26,
   "metadata": {},
   "outputs": [
    {
     "data": {
      "text/plain": [
       "GradientBoostingClassifier(criterion='friedman_mse', init=None,\n",
       "              learning_rate=0.5, loss='deviance', max_depth=3,\n",
       "              max_features=None, max_leaf_nodes=None,\n",
       "              min_impurity_decrease=0.0, min_impurity_split=None,\n",
       "              min_samples_leaf=1, min_samples_split=2,\n",
       "              min_weight_fraction_leaf=0.0, n_estimators=600,\n",
       "              presort='auto', random_state=0, subsample=1.0, verbose=0,\n",
       "              warm_start=False)"
      ]
     },
     "execution_count": 26,
     "metadata": {},
     "output_type": "execute_result"
    }
   ],
   "source": [
    "from sklearn.ensemble import GradientBoostingClassifier\n",
    "gb_clf = GradientBoostingClassifier(n_estimators=600, learning_rate=0.5, max_depth=3, random_state=0)\n",
    "gb_clf.fit(X_reduced, y_train)"
   ]
  },
  {
   "cell_type": "code",
   "execution_count": 27,
   "metadata": {},
   "outputs": [
    {
     "data": {
      "text/plain": [
       "0.9593590611757229"
      ]
     },
     "execution_count": 27,
     "metadata": {},
     "output_type": "execute_result"
    }
   ],
   "source": [
    "from sklearn.model_selection import cross_val_score\n",
    "gb_scores = cross_val_score(gb_clf, X_reduced, y_train, cv = 5)\n",
    "gb_scores.mean()"
   ]
  },
  {
   "cell_type": "code",
   "execution_count": 28,
   "metadata": {},
   "outputs": [],
   "source": [
    "y_test_gb = gb_clf.predict(X_test_reduced)"
   ]
  },
  {
   "cell_type": "code",
   "execution_count": 33,
   "metadata": {},
   "outputs": [
    {
     "name": "stdout",
     "output_type": "stream",
     "text": [
      "        target\n",
      "0            0\n",
      "1            0\n",
      "2            0\n",
      "3            0\n",
      "4            0\n",
      "5            0\n",
      "6            0\n",
      "7            0\n",
      "8            0\n",
      "9            0\n",
      "10           0\n",
      "11           0\n",
      "12           0\n",
      "13           0\n",
      "14           0\n",
      "15           0\n",
      "16           0\n",
      "17           0\n",
      "18           0\n",
      "19           0\n",
      "20           0\n",
      "21           0\n",
      "22           0\n",
      "23           0\n",
      "24           0\n",
      "25           0\n",
      "26           0\n",
      "27           0\n",
      "28           0\n",
      "29           0\n",
      "...        ...\n",
      "892786       0\n",
      "892787       0\n",
      "892788       0\n",
      "892789       0\n",
      "892790       0\n",
      "892791       0\n",
      "892792       0\n",
      "892793       0\n",
      "892794       0\n",
      "892795       0\n",
      "892796       0\n",
      "892797       0\n",
      "892798       0\n",
      "892799       0\n",
      "892800       0\n",
      "892801       0\n",
      "892802       0\n",
      "892803       0\n",
      "892804       0\n",
      "892805       0\n",
      "892806       0\n",
      "892807       0\n",
      "892808       0\n",
      "892809       0\n",
      "892810       0\n",
      "892811       0\n",
      "892812       0\n",
      "892813       0\n",
      "892814       0\n",
      "892815       0\n",
      "\n",
      "[892816 rows x 1 columns]\n"
     ]
    }
   ],
   "source": [
    "pred = {'target' : y_test_gb}\n",
    "target = pd.DataFrame(pred)\n",
    "print(target)"
   ]
  },
  {
   "cell_type": "code",
   "execution_count": 37,
   "metadata": {},
   "outputs": [
    {
     "name": "stdout",
     "output_type": "stream",
     "text": [
      "   id  num1  num2  num3  num4  num5  num6  num7  num8  num9   ...    cat6  \\\n",
      "0   0     0     8     0     1     0     0     0     0     0   ...     NaN   \n",
      "1   1     4     5     0     0     0     1     0     0     0   ...     NaN   \n",
      "2   2     5     3     0     0     0     1     0     0     0   ...     NaN   \n",
      "3   3     0     6     1     0     0     0     0     0     0   ...     NaN   \n",
      "4   4     5     7     0     0     0     1     0     0     0   ...     NaN   \n",
      "\n",
      "   cat7  cat8  cat9  cat10  cat11  cat12  cat13  cat14  target  \n",
      "0     0   NaN     1    1.0      1    2.0      1     65       0  \n",
      "1     0   0.0    11    1.0      1    0.0      1    103       0  \n",
      "2     0   NaN    14    1.0      1    2.0      1     29       0  \n",
      "3     0   NaN     1    1.0      1    2.0      1     40       0  \n",
      "4     0   NaN    11    1.0      1    2.0      1    101       0  \n",
      "\n",
      "[5 rows x 58 columns]\n"
     ]
    }
   ],
   "source": [
    "final = pd.concat([testf, target], axis= 1, join = 'inner')\n",
    "\n",
    "print(final.head())"
   ]
  },
  {
   "cell_type": "code",
   "execution_count": 38,
   "metadata": {},
   "outputs": [
    {
     "name": "stdout",
     "output_type": "stream",
     "text": [
      "             id  target\n",
      "0             0       0\n",
      "1             1       0\n",
      "2             2       0\n",
      "3             3       0\n",
      "4             4       0\n",
      "5             5       0\n",
      "6             6       0\n",
      "7             8       0\n",
      "8            10       0\n",
      "9            11       0\n",
      "10           12       0\n",
      "11           14       0\n",
      "12           15       0\n",
      "13           18       0\n",
      "14           21       0\n",
      "15           23       0\n",
      "16           24       0\n",
      "17           25       0\n",
      "18           27       0\n",
      "19           29       0\n",
      "20           30       0\n",
      "21           31       0\n",
      "22           32       0\n",
      "23           33       0\n",
      "24           37       0\n",
      "25           38       0\n",
      "26           39       0\n",
      "27           40       0\n",
      "28           41       0\n",
      "29           42       0\n",
      "...         ...     ...\n",
      "892786  1487982       0\n",
      "892787  1487984       0\n",
      "892788  1487985       0\n",
      "892789  1487986       0\n",
      "892790  1487987       0\n",
      "892791  1487989       0\n",
      "892792  1487991       0\n",
      "892793  1487993       0\n",
      "892794  1487995       0\n",
      "892795  1487997       0\n",
      "892796  1487998       0\n",
      "892797  1487999       0\n",
      "892798  1488000       0\n",
      "892799  1488002       0\n",
      "892800  1488003       0\n",
      "892801  1488004       0\n",
      "892802  1488006       0\n",
      "892803  1488007       0\n",
      "892804  1488010       0\n",
      "892805  1488012       0\n",
      "892806  1488014       0\n",
      "892807  1488015       0\n",
      "892808  1488018       0\n",
      "892809  1488019       0\n",
      "892810  1488020       0\n",
      "892811  1488022       0\n",
      "892812  1488023       0\n",
      "892813  1488024       0\n",
      "892814  1488025       0\n",
      "892815  1488026       0\n",
      "\n",
      "[892816 rows x 2 columns]\n"
     ]
    }
   ],
   "source": [
    "result = final[['id', 'target']]\n",
    "print(result)"
   ]
  },
  {
   "cell_type": "code",
   "execution_count": 39,
   "metadata": {},
   "outputs": [],
   "source": [
    "result.to_csv('F:\\Challenge Outputs\\Quartic.ai Hiring Challenge.csv')"
   ]
  },
  {
   "cell_type": "code",
   "execution_count": 40,
   "metadata": {},
   "outputs": [
    {
     "data": {
      "text/plain": [
       "0    882639\n",
       "1     10177\n",
       "Name: target, dtype: int64"
      ]
     },
     "execution_count": 40,
     "metadata": {},
     "output_type": "execute_result"
    }
   ],
   "source": [
    "result['target'].value_counts()"
   ]
  },
  {
   "cell_type": "code",
   "execution_count": null,
   "metadata": {},
   "outputs": [],
   "source": []
  }
 ],
 "metadata": {
  "kernelspec": {
   "display_name": "Python 3",
   "language": "python",
   "name": "python3"
  },
  "language_info": {
   "codemirror_mode": {
    "name": "ipython",
    "version": 3
   },
   "file_extension": ".py",
   "mimetype": "text/x-python",
   "name": "python",
   "nbconvert_exporter": "python",
   "pygments_lexer": "ipython3",
   "version": "3.6.5"
  }
 },
 "nbformat": 4,
 "nbformat_minor": 2
}
